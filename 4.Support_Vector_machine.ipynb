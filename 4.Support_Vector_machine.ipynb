{
 "cells": [
  {
   "cell_type": "markdown",
   "metadata": {},
   "source": [
    "# Support Vector Machine (SVM)"
   ]
  },
  {
   "cell_type": "markdown",
   "metadata": {},
   "source": [
    "#### Importing the libraries and loading the data"
   ]
  },
  {
   "cell_type": "code",
   "execution_count": 18,
   "metadata": {
    "collapsed": true
   },
   "outputs": [],
   "source": [
    "import numpy as np\n",
    "import pandas as pd\n",
    "import matplotlib.pyplot as plt\n",
    "import seaborn as sns\n",
    "from sklearn.model_selection import train_test_split\n",
    "from sklearn.svm import SVC\n",
    "from sklearn.metrics import classification_report, confusion_matrix\n",
    "%matplotlib inline"
   ]
  },
  {
   "cell_type": "code",
   "execution_count": 19,
   "metadata": {
    "collapsed": true
   },
   "outputs": [],
   "source": [
    "from sklearn.datasets import load_breast_cancer"
   ]
  },
  {
   "cell_type": "code",
   "execution_count": 20,
   "metadata": {
    "collapsed": true
   },
   "outputs": [],
   "source": [
    "raw_data = load_breast_cancer()"
   ]
  },
  {
   "cell_type": "markdown",
   "metadata": {},
   "source": [
    "#### Since the loaded data are in dict format, we better convert it to pandas dataframe object"
   ]
  },
  {
   "cell_type": "code",
   "execution_count": 21,
   "metadata": {},
   "outputs": [
    {
     "data": {
      "text/plain": [
       "Index([u'mean radius', u'mean texture', u'mean perimeter', u'mean area',\n",
       "       u'mean smoothness', u'mean compactness', u'mean concavity',\n",
       "       u'mean concave points', u'mean symmetry', u'mean fractal dimension',\n",
       "       u'radius error', u'texture error', u'perimeter error', u'area error',\n",
       "       u'smoothness error', u'compactness error', u'concavity error',\n",
       "       u'concave points error', u'symmetry error', u'fractal dimension error',\n",
       "       u'worst radius', u'worst texture', u'worst perimeter', u'worst area',\n",
       "       u'worst smoothness', u'worst compactness', u'worst concavity',\n",
       "       u'worst concave points', u'worst symmetry', u'worst fractal dimension'],\n",
       "      dtype='object')"
      ]
     },
     "execution_count": 21,
     "metadata": {},
     "output_type": "execute_result"
    }
   ],
   "source": [
    "data.keys()"
   ]
  },
  {
   "cell_type": "code",
   "execution_count": 6,
   "metadata": {},
   "outputs": [
    {
     "name": "stdout",
     "output_type": "stream",
     "text": [
      "['malignant' 'benign']\n"
     ]
    }
   ],
   "source": [
    "print(raw_data['target_names'])"
   ]
  },
  {
   "cell_type": "code",
   "execution_count": 22,
   "metadata": {},
   "outputs": [
    {
     "name": "stdout",
     "output_type": "stream",
     "text": [
      "[[  1.79900000e+01   1.03800000e+01   1.22800000e+02 ...,   2.65400000e-01\n",
      "    4.60100000e-01   1.18900000e-01]\n",
      " [  2.05700000e+01   1.77700000e+01   1.32900000e+02 ...,   1.86000000e-01\n",
      "    2.75000000e-01   8.90200000e-02]\n",
      " [  1.96900000e+01   2.12500000e+01   1.30000000e+02 ...,   2.43000000e-01\n",
      "    3.61300000e-01   8.75800000e-02]\n",
      " ..., \n",
      " [  1.66000000e+01   2.80800000e+01   1.08300000e+02 ...,   1.41800000e-01\n",
      "    2.21800000e-01   7.82000000e-02]\n",
      " [  2.06000000e+01   2.93300000e+01   1.40100000e+02 ...,   2.65000000e-01\n",
      "    4.08700000e-01   1.24000000e-01]\n",
      " [  7.76000000e+00   2.45400000e+01   4.79200000e+01 ...,   0.00000000e+00\n",
      "    2.87100000e-01   7.03900000e-02]]\n"
     ]
    }
   ],
   "source": [
    "print(raw_data['data'])"
   ]
  },
  {
   "cell_type": "code",
   "execution_count": 23,
   "metadata": {},
   "outputs": [
    {
     "name": "stdout",
     "output_type": "stream",
     "text": [
      "[0 0 0 0 0 0 0 0 0 0 0 0 0 0 0 0 0 0 0 1 1 1 0 0 0 0 0 0 0 0 0 0 0 0 0 0 0\n",
      " 1 0 0 0 0 0 0 0 0 1 0 1 1 1 1 1 0 0 1 0 0 1 1 1 1 0 1 0 0 1 1 1 1 0 1 0 0\n",
      " 1 0 1 0 0 1 1 1 0 0 1 0 0 0 1 1 1 0 1 1 0 0 1 1 1 0 0 1 1 1 1 0 1 1 0 1 1\n",
      " 1 1 1 1 1 1 0 0 0 1 0 0 1 1 1 0 0 1 0 1 0 0 1 0 0 1 1 0 1 1 0 1 1 1 1 0 1\n",
      " 1 1 1 1 1 1 1 1 0 1 1 1 1 0 0 1 0 1 1 0 0 1 1 0 0 1 1 1 1 0 1 1 0 0 0 1 0\n",
      " 1 0 1 1 1 0 1 1 0 0 1 0 0 0 0 1 0 0 0 1 0 1 0 1 1 0 1 0 0 0 0 1 1 0 0 1 1\n",
      " 1 0 1 1 1 1 1 0 0 1 1 0 1 1 0 0 1 0 1 1 1 1 0 1 1 1 1 1 0 1 0 0 0 0 0 0 0\n",
      " 0 0 0 0 0 0 0 1 1 1 1 1 1 0 1 0 1 1 0 1 1 0 1 0 0 1 1 1 1 1 1 1 1 1 1 1 1\n",
      " 1 0 1 1 0 1 0 1 1 1 1 1 1 1 1 1 1 1 1 1 1 0 1 1 1 0 1 0 1 1 1 1 0 0 0 1 1\n",
      " 1 1 0 1 0 1 0 1 1 1 0 1 1 1 1 1 1 1 0 0 0 1 1 1 1 1 1 1 1 1 1 1 0 0 1 0 0\n",
      " 0 1 0 0 1 1 1 1 1 0 1 1 1 1 1 0 1 1 1 0 1 1 0 0 1 1 1 1 1 1 0 1 1 1 1 1 1\n",
      " 1 0 1 1 1 1 1 0 1 1 0 1 1 1 1 1 1 1 1 1 1 1 1 0 1 0 0 1 0 1 1 1 1 1 0 1 1\n",
      " 0 1 0 1 1 0 1 0 1 1 1 1 1 1 1 1 0 0 1 1 1 1 1 1 0 1 1 1 1 1 1 1 1 1 1 0 1\n",
      " 1 1 1 1 1 1 0 1 0 1 1 0 1 1 1 1 1 0 0 1 0 1 0 1 1 1 1 1 0 1 1 0 1 0 1 0 0\n",
      " 1 1 1 0 1 1 1 1 1 1 1 1 1 1 1 0 1 0 0 1 1 1 1 1 1 1 1 1 1 1 1 1 1 1 1 1 1\n",
      " 1 1 1 1 1 1 1 0 0 0 0 0 0 1]\n"
     ]
    }
   ],
   "source": [
    "print (raw_data['target'])"
   ]
  },
  {
   "cell_type": "code",
   "execution_count": 24,
   "metadata": {},
   "outputs": [
    {
     "name": "stdout",
     "output_type": "stream",
     "text": [
      "Breast Cancer Wisconsin (Diagnostic) Database\n",
      "=============================================\n",
      "\n",
      "Notes\n",
      "-----\n",
      "Data Set Characteristics:\n",
      "    :Number of Instances: 569\n",
      "\n",
      "    :Number of Attributes: 30 numeric, predictive attributes and the class\n",
      "\n",
      "    :Attribute Information:\n",
      "        - radius (mean of distances from center to points on the perimeter)\n",
      "        - texture (standard deviation of gray-scale values)\n",
      "        - perimeter\n",
      "        - area\n",
      "        - smoothness (local variation in radius lengths)\n",
      "        - compactness (perimeter^2 / area - 1.0)\n",
      "        - concavity (severity of concave portions of the contour)\n",
      "        - concave points (number of concave portions of the contour)\n",
      "        - symmetry \n",
      "        - fractal dimension (\"coastline approximation\" - 1)\n",
      "\n",
      "        The mean, standard error, and \"worst\" or largest (mean of the three\n",
      "        largest values) of these features were computed for each image,\n",
      "        resulting in 30 features.  For instance, field 3 is Mean Radius, field\n",
      "        13 is Radius SE, field 23 is Worst Radius.\n",
      "\n",
      "        - class:\n",
      "                - WDBC-Malignant\n",
      "                - WDBC-Benign\n",
      "\n",
      "    :Summary Statistics:\n",
      "\n",
      "    ===================================== ====== ======\n",
      "                                           Min    Max\n",
      "    ===================================== ====== ======\n",
      "    radius (mean):                        6.981  28.11\n",
      "    texture (mean):                       9.71   39.28\n",
      "    perimeter (mean):                     43.79  188.5\n",
      "    area (mean):                          143.5  2501.0\n",
      "    smoothness (mean):                    0.053  0.163\n",
      "    compactness (mean):                   0.019  0.345\n",
      "    concavity (mean):                     0.0    0.427\n",
      "    concave points (mean):                0.0    0.201\n",
      "    symmetry (mean):                      0.106  0.304\n",
      "    fractal dimension (mean):             0.05   0.097\n",
      "    radius (standard error):              0.112  2.873\n",
      "    texture (standard error):             0.36   4.885\n",
      "    perimeter (standard error):           0.757  21.98\n",
      "    area (standard error):                6.802  542.2\n",
      "    smoothness (standard error):          0.002  0.031\n",
      "    compactness (standard error):         0.002  0.135\n",
      "    concavity (standard error):           0.0    0.396\n",
      "    concave points (standard error):      0.0    0.053\n",
      "    symmetry (standard error):            0.008  0.079\n",
      "    fractal dimension (standard error):   0.001  0.03\n",
      "    radius (worst):                       7.93   36.04\n",
      "    texture (worst):                      12.02  49.54\n",
      "    perimeter (worst):                    50.41  251.2\n",
      "    area (worst):                         185.2  4254.0\n",
      "    smoothness (worst):                   0.071  0.223\n",
      "    compactness (worst):                  0.027  1.058\n",
      "    concavity (worst):                    0.0    1.252\n",
      "    concave points (worst):               0.0    0.291\n",
      "    symmetry (worst):                     0.156  0.664\n",
      "    fractal dimension (worst):            0.055  0.208\n",
      "    ===================================== ====== ======\n",
      "\n",
      "    :Missing Attribute Values: None\n",
      "\n",
      "    :Class Distribution: 212 - Malignant, 357 - Benign\n",
      "\n",
      "    :Creator:  Dr. William H. Wolberg, W. Nick Street, Olvi L. Mangasarian\n",
      "\n",
      "    :Donor: Nick Street\n",
      "\n",
      "    :Date: November, 1995\n",
      "\n",
      "This is a copy of UCI ML Breast Cancer Wisconsin (Diagnostic) datasets.\n",
      "https://goo.gl/U2Uwz2\n",
      "\n",
      "Features are computed from a digitized image of a fine needle\n",
      "aspirate (FNA) of a breast mass.  They describe\n",
      "characteristics of the cell nuclei present in the image.\n",
      "\n",
      "Separating plane described above was obtained using\n",
      "Multisurface Method-Tree (MSM-T) [K. P. Bennett, \"Decision Tree\n",
      "Construction Via Linear Programming.\" Proceedings of the 4th\n",
      "Midwest Artificial Intelligence and Cognitive Science Society,\n",
      "pp. 97-101, 1992], a classification method which uses linear\n",
      "programming to construct a decision tree.  Relevant features\n",
      "were selected using an exhaustive search in the space of 1-4\n",
      "features and 1-3 separating planes.\n",
      "\n",
      "The actual linear program used to obtain the separating plane\n",
      "in the 3-dimensional space is that described in:\n",
      "[K. P. Bennett and O. L. Mangasarian: \"Robust Linear\n",
      "Programming Discrimination of Two Linearly Inseparable Sets\",\n",
      "Optimization Methods and Software 1, 1992, 23-34].\n",
      "\n",
      "This database is also available through the UW CS ftp server:\n",
      "\n",
      "ftp ftp.cs.wisc.edu\n",
      "cd math-prog/cpo-dataset/machine-learn/WDBC/\n",
      "\n",
      "References\n",
      "----------\n",
      "   - W.N. Street, W.H. Wolberg and O.L. Mangasarian. Nuclear feature extraction \n",
      "     for breast tumor diagnosis. IS&T/SPIE 1993 International Symposium on \n",
      "     Electronic Imaging: Science and Technology, volume 1905, pages 861-870,\n",
      "     San Jose, CA, 1993.\n",
      "   - O.L. Mangasarian, W.N. Street and W.H. Wolberg. Breast cancer diagnosis and \n",
      "     prognosis via linear programming. Operations Research, 43(4), pages 570-577, \n",
      "     July-August 1995.\n",
      "   - W.H. Wolberg, W.N. Street, and O.L. Mangasarian. Machine learning techniques\n",
      "     to diagnose breast cancer from fine-needle aspirates. Cancer Letters 77 (1994) \n",
      "     163-171.\n",
      "\n"
     ]
    }
   ],
   "source": [
    "print(raw_data['DESCR'])"
   ]
  },
  {
   "cell_type": "code",
   "execution_count": 11,
   "metadata": {},
   "outputs": [
    {
     "name": "stdout",
     "output_type": "stream",
     "text": [
      "['mean radius' 'mean texture' 'mean perimeter' 'mean area'\n",
      " 'mean smoothness' 'mean compactness' 'mean concavity'\n",
      " 'mean concave points' 'mean symmetry' 'mean fractal dimension'\n",
      " 'radius error' 'texture error' 'perimeter error' 'area error'\n",
      " 'smoothness error' 'compactness error' 'concavity error'\n",
      " 'concave points error' 'symmetry error' 'fractal dimension error'\n",
      " 'worst radius' 'worst texture' 'worst perimeter' 'worst area'\n",
      " 'worst smoothness' 'worst compactness' 'worst concavity'\n",
      " 'worst concave points' 'worst symmetry' 'worst fractal dimension']\n"
     ]
    }
   ],
   "source": [
    "print(raw_data['feature_names'])"
   ]
  },
  {
   "cell_type": "code",
   "execution_count": 25,
   "metadata": {},
   "outputs": [
    {
     "data": {
      "text/html": [
       "<div>\n",
       "<style>\n",
       "    .dataframe thead tr:only-child th {\n",
       "        text-align: right;\n",
       "    }\n",
       "\n",
       "    .dataframe thead th {\n",
       "        text-align: left;\n",
       "    }\n",
       "\n",
       "    .dataframe tbody tr th {\n",
       "        vertical-align: top;\n",
       "    }\n",
       "</style>\n",
       "<table border=\"1\" class=\"dataframe\">\n",
       "  <thead>\n",
       "    <tr style=\"text-align: right;\">\n",
       "      <th></th>\n",
       "      <th>mean radius</th>\n",
       "      <th>mean texture</th>\n",
       "      <th>mean perimeter</th>\n",
       "      <th>mean area</th>\n",
       "      <th>mean smoothness</th>\n",
       "      <th>mean compactness</th>\n",
       "      <th>mean concavity</th>\n",
       "      <th>mean concave points</th>\n",
       "      <th>mean symmetry</th>\n",
       "      <th>mean fractal dimension</th>\n",
       "      <th>...</th>\n",
       "      <th>worst radius</th>\n",
       "      <th>worst texture</th>\n",
       "      <th>worst perimeter</th>\n",
       "      <th>worst area</th>\n",
       "      <th>worst smoothness</th>\n",
       "      <th>worst compactness</th>\n",
       "      <th>worst concavity</th>\n",
       "      <th>worst concave points</th>\n",
       "      <th>worst symmetry</th>\n",
       "      <th>worst fractal dimension</th>\n",
       "    </tr>\n",
       "  </thead>\n",
       "  <tbody>\n",
       "    <tr>\n",
       "      <th>0</th>\n",
       "      <td>17.99</td>\n",
       "      <td>10.38</td>\n",
       "      <td>122.80</td>\n",
       "      <td>1001.0</td>\n",
       "      <td>0.11840</td>\n",
       "      <td>0.27760</td>\n",
       "      <td>0.3001</td>\n",
       "      <td>0.14710</td>\n",
       "      <td>0.2419</td>\n",
       "      <td>0.07871</td>\n",
       "      <td>...</td>\n",
       "      <td>25.38</td>\n",
       "      <td>17.33</td>\n",
       "      <td>184.60</td>\n",
       "      <td>2019.0</td>\n",
       "      <td>0.1622</td>\n",
       "      <td>0.6656</td>\n",
       "      <td>0.7119</td>\n",
       "      <td>0.2654</td>\n",
       "      <td>0.4601</td>\n",
       "      <td>0.11890</td>\n",
       "    </tr>\n",
       "    <tr>\n",
       "      <th>1</th>\n",
       "      <td>20.57</td>\n",
       "      <td>17.77</td>\n",
       "      <td>132.90</td>\n",
       "      <td>1326.0</td>\n",
       "      <td>0.08474</td>\n",
       "      <td>0.07864</td>\n",
       "      <td>0.0869</td>\n",
       "      <td>0.07017</td>\n",
       "      <td>0.1812</td>\n",
       "      <td>0.05667</td>\n",
       "      <td>...</td>\n",
       "      <td>24.99</td>\n",
       "      <td>23.41</td>\n",
       "      <td>158.80</td>\n",
       "      <td>1956.0</td>\n",
       "      <td>0.1238</td>\n",
       "      <td>0.1866</td>\n",
       "      <td>0.2416</td>\n",
       "      <td>0.1860</td>\n",
       "      <td>0.2750</td>\n",
       "      <td>0.08902</td>\n",
       "    </tr>\n",
       "    <tr>\n",
       "      <th>2</th>\n",
       "      <td>19.69</td>\n",
       "      <td>21.25</td>\n",
       "      <td>130.00</td>\n",
       "      <td>1203.0</td>\n",
       "      <td>0.10960</td>\n",
       "      <td>0.15990</td>\n",
       "      <td>0.1974</td>\n",
       "      <td>0.12790</td>\n",
       "      <td>0.2069</td>\n",
       "      <td>0.05999</td>\n",
       "      <td>...</td>\n",
       "      <td>23.57</td>\n",
       "      <td>25.53</td>\n",
       "      <td>152.50</td>\n",
       "      <td>1709.0</td>\n",
       "      <td>0.1444</td>\n",
       "      <td>0.4245</td>\n",
       "      <td>0.4504</td>\n",
       "      <td>0.2430</td>\n",
       "      <td>0.3613</td>\n",
       "      <td>0.08758</td>\n",
       "    </tr>\n",
       "    <tr>\n",
       "      <th>3</th>\n",
       "      <td>11.42</td>\n",
       "      <td>20.38</td>\n",
       "      <td>77.58</td>\n",
       "      <td>386.1</td>\n",
       "      <td>0.14250</td>\n",
       "      <td>0.28390</td>\n",
       "      <td>0.2414</td>\n",
       "      <td>0.10520</td>\n",
       "      <td>0.2597</td>\n",
       "      <td>0.09744</td>\n",
       "      <td>...</td>\n",
       "      <td>14.91</td>\n",
       "      <td>26.50</td>\n",
       "      <td>98.87</td>\n",
       "      <td>567.7</td>\n",
       "      <td>0.2098</td>\n",
       "      <td>0.8663</td>\n",
       "      <td>0.6869</td>\n",
       "      <td>0.2575</td>\n",
       "      <td>0.6638</td>\n",
       "      <td>0.17300</td>\n",
       "    </tr>\n",
       "    <tr>\n",
       "      <th>4</th>\n",
       "      <td>20.29</td>\n",
       "      <td>14.34</td>\n",
       "      <td>135.10</td>\n",
       "      <td>1297.0</td>\n",
       "      <td>0.10030</td>\n",
       "      <td>0.13280</td>\n",
       "      <td>0.1980</td>\n",
       "      <td>0.10430</td>\n",
       "      <td>0.1809</td>\n",
       "      <td>0.05883</td>\n",
       "      <td>...</td>\n",
       "      <td>22.54</td>\n",
       "      <td>16.67</td>\n",
       "      <td>152.20</td>\n",
       "      <td>1575.0</td>\n",
       "      <td>0.1374</td>\n",
       "      <td>0.2050</td>\n",
       "      <td>0.4000</td>\n",
       "      <td>0.1625</td>\n",
       "      <td>0.2364</td>\n",
       "      <td>0.07678</td>\n",
       "    </tr>\n",
       "  </tbody>\n",
       "</table>\n",
       "<p>5 rows × 30 columns</p>\n",
       "</div>"
      ],
      "text/plain": [
       "   mean radius  mean texture  mean perimeter  mean area  mean smoothness  \\\n",
       "0        17.99         10.38          122.80     1001.0          0.11840   \n",
       "1        20.57         17.77          132.90     1326.0          0.08474   \n",
       "2        19.69         21.25          130.00     1203.0          0.10960   \n",
       "3        11.42         20.38           77.58      386.1          0.14250   \n",
       "4        20.29         14.34          135.10     1297.0          0.10030   \n",
       "\n",
       "   mean compactness  mean concavity  mean concave points  mean symmetry  \\\n",
       "0           0.27760          0.3001              0.14710         0.2419   \n",
       "1           0.07864          0.0869              0.07017         0.1812   \n",
       "2           0.15990          0.1974              0.12790         0.2069   \n",
       "3           0.28390          0.2414              0.10520         0.2597   \n",
       "4           0.13280          0.1980              0.10430         0.1809   \n",
       "\n",
       "   mean fractal dimension           ...             worst radius  \\\n",
       "0                 0.07871           ...                    25.38   \n",
       "1                 0.05667           ...                    24.99   \n",
       "2                 0.05999           ...                    23.57   \n",
       "3                 0.09744           ...                    14.91   \n",
       "4                 0.05883           ...                    22.54   \n",
       "\n",
       "   worst texture  worst perimeter  worst area  worst smoothness  \\\n",
       "0          17.33           184.60      2019.0            0.1622   \n",
       "1          23.41           158.80      1956.0            0.1238   \n",
       "2          25.53           152.50      1709.0            0.1444   \n",
       "3          26.50            98.87       567.7            0.2098   \n",
       "4          16.67           152.20      1575.0            0.1374   \n",
       "\n",
       "   worst compactness  worst concavity  worst concave points  worst symmetry  \\\n",
       "0             0.6656           0.7119                0.2654          0.4601   \n",
       "1             0.1866           0.2416                0.1860          0.2750   \n",
       "2             0.4245           0.4504                0.2430          0.3613   \n",
       "3             0.8663           0.6869                0.2575          0.6638   \n",
       "4             0.2050           0.4000                0.1625          0.2364   \n",
       "\n",
       "   worst fractal dimension  \n",
       "0                  0.11890  \n",
       "1                  0.08902  \n",
       "2                  0.08758  \n",
       "3                  0.17300  \n",
       "4                  0.07678  \n",
       "\n",
       "[5 rows x 30 columns]"
      ]
     },
     "execution_count": 25,
     "metadata": {},
     "output_type": "execute_result"
    }
   ],
   "source": [
    "data = pd.DataFrame(raw_data['data'],columns =raw_data['feature_names'])\n",
    "data.head()"
   ]
  },
  {
   "cell_type": "code",
   "execution_count": 26,
   "metadata": {},
   "outputs": [
    {
     "data": {
      "text/plain": [
       "mean radius                0\n",
       "mean texture               0\n",
       "mean perimeter             0\n",
       "mean area                  0\n",
       "mean smoothness            0\n",
       "mean compactness           0\n",
       "mean concavity             0\n",
       "mean concave points        0\n",
       "mean symmetry              0\n",
       "mean fractal dimension     0\n",
       "radius error               0\n",
       "texture error              0\n",
       "perimeter error            0\n",
       "area error                 0\n",
       "smoothness error           0\n",
       "compactness error          0\n",
       "concavity error            0\n",
       "concave points error       0\n",
       "symmetry error             0\n",
       "fractal dimension error    0\n",
       "worst radius               0\n",
       "worst texture              0\n",
       "worst perimeter            0\n",
       "worst area                 0\n",
       "worst smoothness           0\n",
       "worst compactness          0\n",
       "worst concavity            0\n",
       "worst concave points       0\n",
       "worst symmetry             0\n",
       "worst fractal dimension    0\n",
       "dtype: int64"
      ]
     },
     "execution_count": 26,
     "metadata": {},
     "output_type": "execute_result"
    }
   ],
   "source": [
    "data.isnull().sum()"
   ]
  },
  {
   "cell_type": "code",
   "execution_count": 16,
   "metadata": {},
   "outputs": [
    {
     "data": {
      "text/plain": [
       "<seaborn.axisgrid.PairGrid at 0x7f0b93882190>"
      ]
     },
     "execution_count": 16,
     "metadata": {},
     "output_type": "execute_result"
    },
    {
     "name": "stderr",
     "output_type": "stream",
     "text": [
      "IOPub data rate exceeded.\n",
      "The notebook server will temporarily stop sending output\n",
      "to the client in order to avoid crashing it.\n",
      "To change this limit, set the config variable\n",
      "`--NotebookApp.iopub_data_rate_limit`.\n"
     ]
    }
   ],
   "source": [
    "sns.pairplot(raw_data)"
   ]
  },
  {
   "cell_type": "code",
   "execution_count": 17,
   "metadata": {},
   "outputs": [
    {
     "data": {
      "text/plain": [
       "<matplotlib.axes._subplots.AxesSubplot at 0x7f0b3efe7a10>"
      ]
     },
     "execution_count": 17,
     "metadata": {},
     "output_type": "execute_result"
    },
    {
     "data": {
      "image/png": "[encoded data removed]",
      "text/plain": [
       "<matplotlib.figure.Figure at 0x7f0b3ec1b210>"
      ]
     },
     "metadata": {},
     "output_type": "display_data"
    }
   ],
   "source": [
    "sns.heatmap(raw_data.corr())"
   ]
  },
  {
   "cell_type": "markdown",
   "metadata": {},
   "source": [
    "#### Assigning dataset to X and y"
   ]
  },
  {
   "cell_type": "code",
   "execution_count": 28,
   "metadata": {},
   "outputs": [
    {
     "data": {
      "text/html": [
       "<div>\n",
       "<style>\n",
       "    .dataframe thead tr:only-child th {\n",
       "        text-align: right;\n",
       "    }\n",
       "\n",
       "    .dataframe thead th {\n",
       "        text-align: left;\n",
       "    }\n",
       "\n",
       "    .dataframe tbody tr th {\n",
       "        vertical-align: top;\n",
       "    }\n",
       "</style>\n",
       "<table border=\"1\" class=\"dataframe\">\n",
       "  <thead>\n",
       "    <tr style=\"text-align: right;\">\n",
       "      <th></th>\n",
       "      <th>0</th>\n",
       "    </tr>\n",
       "  </thead>\n",
       "  <tbody>\n",
       "    <tr>\n",
       "      <th>0</th>\n",
       "      <td>0</td>\n",
       "    </tr>\n",
       "    <tr>\n",
       "      <th>1</th>\n",
       "      <td>0</td>\n",
       "    </tr>\n",
       "    <tr>\n",
       "      <th>2</th>\n",
       "      <td>0</td>\n",
       "    </tr>\n",
       "    <tr>\n",
       "      <th>3</th>\n",
       "      <td>0</td>\n",
       "    </tr>\n",
       "    <tr>\n",
       "      <th>4</th>\n",
       "      <td>0</td>\n",
       "    </tr>\n",
       "  </tbody>\n",
       "</table>\n",
       "</div>"
      ],
      "text/plain": [
       "   0\n",
       "0  0\n",
       "1  0\n",
       "2  0\n",
       "3  0\n",
       "4  0"
      ]
     },
     "execution_count": 28,
     "metadata": {},
     "output_type": "execute_result"
    }
   ],
   "source": [
    "X =data\n",
    "y =pd.DataFrame(raw_data['target'])\n",
    "y.head()"
   ]
  },
  {
   "cell_type": "markdown",
   "metadata": {},
   "source": [
    "#### Splitting the data"
   ]
  },
  {
   "cell_type": "code",
   "execution_count": 30,
   "metadata": {},
   "outputs": [],
   "source": [
    "X_train,X_test, y_train,y_test = train_test_split(X, np.ravel(y),random_state=100,test_size=0.3)"
   ]
  },
  {
   "cell_type": "markdown",
   "metadata": {},
   "source": [
    "#### Training the model"
   ]
  },
  {
   "cell_type": "code",
   "execution_count": 31,
   "metadata": {
    "collapsed": true
   },
   "outputs": [],
   "source": [
    "SVM = SVC()"
   ]
  },
  {
   "cell_type": "code",
   "execution_count": 32,
   "metadata": {},
   "outputs": [
    {
     "data": {
      "text/plain": [
       "SVC(C=1.0, cache_size=200, class_weight=None, coef0=0.0,\n",
       "  decision_function_shape='ovr', degree=3, gamma='auto', kernel='rbf',\n",
       "  max_iter=-1, probability=False, random_state=None, shrinking=True,\n",
       "  tol=0.001, verbose=False)"
      ]
     },
     "execution_count": 32,
     "metadata": {},
     "output_type": "execute_result"
    }
   ],
   "source": [
    "SVM.fit(X_train, y_train)"
   ]
  },
  {
   "cell_type": "markdown",
   "metadata": {},
   "source": [
    "#### Prediction"
   ]
  },
  {
   "cell_type": "code",
   "execution_count": 33,
   "metadata": {
    "collapsed": true
   },
   "outputs": [],
   "source": [
    "prediction = SVM.predict(X_test)"
   ]
  },
  {
   "cell_type": "markdown",
   "metadata": {},
   "source": [
    "#### Evaluating the model"
   ]
  },
  {
   "cell_type": "code",
   "execution_count": 34,
   "metadata": {},
   "outputs": [
    {
     "name": "stdout",
     "output_type": "stream",
     "text": [
      "             precision    recall  f1-score   support\n",
      "\n",
      "          0       0.00      0.00      0.00        69\n",
      "          1       0.60      1.00      0.75       102\n",
      "\n",
      "avg / total       0.36      0.60      0.45       171\n",
      "\n",
      "[[  0  69]\n",
      " [  0 102]]\n"
     ]
    },
    {
     "name": "stderr",
     "output_type": "stream",
     "text": [
      "/home/pushparaja/anaconda/lib/python2.7/site-packages/sklearn/metrics/classification.py:1135: UndefinedMetricWarning: Precision and F-score are ill-defined and being set to 0.0 in labels with no predicted samples.\n",
      "  'precision', 'predicted', average, warn_for)\n"
     ]
    }
   ],
   "source": [
    "print (classification_report(y_test, prediction))\n",
    "print (confusion_matrix(y_test,prediction))"
   ]
  },
  {
   "cell_type": "markdown",
   "metadata": {},
   "source": [
    "## GRID SEARCH"
   ]
  },
  {
   "cell_type": "code",
   "execution_count": 35,
   "metadata": {
    "collapsed": true
   },
   "outputs": [],
   "source": [
    "params = {'C':[0.1,1,10,100,1000],'gamma':[1,0.1,0.001,0.0001,0.00001], 'kernel':['rbf']}"
   ]
  },
  {
   "cell_type": "code",
   "execution_count": 36,
   "metadata": {
    "collapsed": true
   },
   "outputs": [],
   "source": [
    "from sklearn.model_selection import GridSearchCV"
   ]
  },
  {
   "cell_type": "code",
   "execution_count": 37,
   "metadata": {
    "collapsed": true
   },
   "outputs": [],
   "source": [
    "grid = GridSearchCV(SVC(),params,refit =3, verbose =3)"
   ]
  },
  {
   "cell_type": "code",
   "execution_count": 38,
   "metadata": {},
   "outputs": [
    {
     "name": "stdout",
     "output_type": "stream",
     "text": [
      "Fitting 3 folds for each of 25 candidates, totalling 75 fits\n",
      "[CV] kernel=rbf, C=0.1, gamma=1 ......................................\n",
      "[CV] . kernel=rbf, C=0.1, gamma=1, score=0.639097744361, total=   0.1s\n",
      "[CV] kernel=rbf, C=0.1, gamma=1 ......................................\n",
      "[CV] . kernel=rbf, C=0.1, gamma=1, score=0.639097744361, total=   0.0s\n",
      "[CV] kernel=rbf, C=0.1, gamma=1 ......................................\n",
      "[CV] . kernel=rbf, C=0.1, gamma=1, score=0.643939393939, total=   0.0s"
     ]
    },
    {
     "name": "stderr",
     "output_type": "stream",
     "text": [
      "[Parallel(n_jobs=1)]: Done   1 out of   1 | elapsed:    0.2s remaining:    0.0s\n",
      "[Parallel(n_jobs=1)]: Done   2 out of   2 | elapsed:    0.4s remaining:    0.0s\n"
     ]
    },
    {
     "name": "stdout",
     "output_type": "stream",
     "text": [
      "\n",
      "[CV] kernel=rbf, C=0.1, gamma=0.1 ....................................\n",
      "[CV]  kernel=rbf, C=0.1, gamma=0.1, score=0.639097744361, total=   0.0s\n",
      "[CV] kernel=rbf, C=0.1, gamma=0.1 ....................................\n",
      "[CV]  kernel=rbf, C=0.1, gamma=0.1, score=0.639097744361, total=   0.1s\n",
      "[CV] kernel=rbf, C=0.1, gamma=0.1 ....................................\n",
      "[CV]  kernel=rbf, C=0.1, gamma=0.1, score=0.643939393939, total=   0.0s\n",
      "[CV] kernel=rbf, C=0.1, gamma=0.001 ..................................\n",
      "[CV]  kernel=rbf, C=0.1, gamma=0.001, score=0.639097744361, total=   0.0s\n",
      "[CV] kernel=rbf, C=0.1, gamma=0.001 ..................................\n",
      "[CV]  kernel=rbf, C=0.1, gamma=0.001, score=0.639097744361, total=   0.0s\n",
      "[CV] kernel=rbf, C=0.1, gamma=0.001 ..................................\n",
      "[CV]  kernel=rbf, C=0.1, gamma=0.001, score=0.643939393939, total=   0.0s\n",
      "[CV] kernel=rbf, C=0.1, gamma=0.0001 .................................\n",
      "[CV]  kernel=rbf, C=0.1, gamma=0.0001, score=0.917293233083, total=   0.0s\n",
      "[CV] kernel=rbf, C=0.1, gamma=0.0001 .................................\n",
      "[CV]  kernel=rbf, C=0.1, gamma=0.0001, score=0.924812030075, total=   0.0s\n",
      "[CV] kernel=rbf, C=0.1, gamma=0.0001 .................................\n",
      "[CV]  kernel=rbf, C=0.1, gamma=0.0001, score=0.916666666667, total=   0.0s\n",
      "[CV] kernel=rbf, C=0.1, gamma=1e-05 ..................................\n",
      "[CV]  kernel=rbf, C=0.1, gamma=1e-05, score=0.894736842105, total=   0.0s\n",
      "[CV] kernel=rbf, C=0.1, gamma=1e-05 ..................................\n",
      "[CV]  kernel=rbf, C=0.1, gamma=1e-05, score=0.902255639098, total=   0.0s\n",
      "[CV] kernel=rbf, C=0.1, gamma=1e-05 ..................................\n",
      "[CV]  kernel=rbf, C=0.1, gamma=1e-05, score=0.924242424242, total=   0.0s\n",
      "[CV] kernel=rbf, C=1, gamma=1 ........................................\n",
      "[CV] ... kernel=rbf, C=1, gamma=1, score=0.639097744361, total=   0.0s\n",
      "[CV] kernel=rbf, C=1, gamma=1 ........................................\n",
      "[CV] ... kernel=rbf, C=1, gamma=1, score=0.639097744361, total=   0.0s\n",
      "[CV] kernel=rbf, C=1, gamma=1 ........................................\n",
      "[CV] ... kernel=rbf, C=1, gamma=1, score=0.643939393939, total=   0.0s\n",
      "[CV] kernel=rbf, C=1, gamma=0.1 ......................................\n",
      "[CV] . kernel=rbf, C=1, gamma=0.1, score=0.639097744361, total=   0.0s\n",
      "[CV] kernel=rbf, C=1, gamma=0.1 ......................................\n",
      "[CV] . kernel=rbf, C=1, gamma=0.1, score=0.639097744361, total=   0.0s\n",
      "[CV] kernel=rbf, C=1, gamma=0.1 ......................................\n",
      "[CV] . kernel=rbf, C=1, gamma=0.1, score=0.643939393939, total=   0.0s\n",
      "[CV] kernel=rbf, C=1, gamma=0.001 ....................................\n",
      "[CV]  kernel=rbf, C=1, gamma=0.001, score=0.932330827068, total=   0.0s\n",
      "[CV] kernel=rbf, C=1, gamma=0.001 ....................................\n",
      "[CV]  kernel=rbf, C=1, gamma=0.001, score=0.894736842105, total=   0.0s\n",
      "[CV] kernel=rbf, C=1, gamma=0.001 ....................................\n",
      "[CV]  kernel=rbf, C=1, gamma=0.001, score=0.94696969697, total=   0.0s\n",
      "[CV] kernel=rbf, C=1, gamma=0.0001 ...................................\n",
      "[CV]  kernel=rbf, C=1, gamma=0.0001, score=0.93984962406, total=   0.0s\n",
      "[CV] kernel=rbf, C=1, gamma=0.0001 ...................................\n",
      "[CV]  kernel=rbf, C=1, gamma=0.0001, score=0.93984962406, total=   0.0s\n",
      "[CV] kernel=rbf, C=1, gamma=0.0001 ...................................\n",
      "[CV]  kernel=rbf, C=1, gamma=0.0001, score=0.94696969697, total=   0.0s\n",
      "[CV] kernel=rbf, C=1, gamma=1e-05 ....................................\n",
      "[CV]  kernel=rbf, C=1, gamma=1e-05, score=0.902255639098, total=   0.0s\n",
      "[CV] kernel=rbf, C=1, gamma=1e-05 ....................................\n",
      "[CV]  kernel=rbf, C=1, gamma=1e-05, score=0.924812030075, total=   0.0s\n",
      "[CV] kernel=rbf, C=1, gamma=1e-05 ....................................\n",
      "[CV]  kernel=rbf, C=1, gamma=1e-05, score=0.901515151515, total=   0.0s\n",
      "[CV] kernel=rbf, C=10, gamma=1 .......................................\n",
      "[CV] .. kernel=rbf, C=10, gamma=1, score=0.639097744361, total=   0.0s\n",
      "[CV] kernel=rbf, C=10, gamma=1 .......................................\n",
      "[CV] .. kernel=rbf, C=10, gamma=1, score=0.639097744361, total=   0.1s\n",
      "[CV] kernel=rbf, C=10, gamma=1 .......................................\n",
      "[CV] .. kernel=rbf, C=10, gamma=1, score=0.643939393939, total=   0.1s\n",
      "[CV] kernel=rbf, C=10, gamma=0.1 .....................................\n",
      "[CV]  kernel=rbf, C=10, gamma=0.1, score=0.639097744361, total=   0.0s\n",
      "[CV] kernel=rbf, C=10, gamma=0.1 .....................................\n",
      "[CV]  kernel=rbf, C=10, gamma=0.1, score=0.639097744361, total=   0.0s\n",
      "[CV] kernel=rbf, C=10, gamma=0.1 .....................................\n",
      "[CV]  kernel=rbf, C=10, gamma=0.1, score=0.643939393939, total=   0.0s\n",
      "[CV] kernel=rbf, C=10, gamma=0.001 ...................................\n",
      "[CV]  kernel=rbf, C=10, gamma=0.001, score=0.924812030075, total=   0.0s\n",
      "[CV] kernel=rbf, C=10, gamma=0.001 ...................................\n",
      "[CV]  kernel=rbf, C=10, gamma=0.001, score=0.864661654135, total=   0.0s\n",
      "[CV] kernel=rbf, C=10, gamma=0.001 ...................................\n",
      "[CV]  kernel=rbf, C=10, gamma=0.001, score=0.931818181818, total=   0.0s\n",
      "[CV] kernel=rbf, C=10, gamma=0.0001 ..................................\n",
      "[CV]  kernel=rbf, C=10, gamma=0.0001, score=0.932330827068, total=   0.0s\n",
      "[CV] kernel=rbf, C=10, gamma=0.0001 ..................................\n",
      "[CV]  kernel=rbf, C=10, gamma=0.0001, score=0.90977443609, total=   0.0s\n",
      "[CV] kernel=rbf, C=10, gamma=0.0001 ..................................\n",
      "[CV]  kernel=rbf, C=10, gamma=0.0001, score=0.939393939394, total=   0.0s\n",
      "[CV] kernel=rbf, C=10, gamma=1e-05 ...................................\n",
      "[CV]  kernel=rbf, C=10, gamma=1e-05, score=0.932330827068, total=   0.0s\n",
      "[CV] kernel=rbf, C=10, gamma=1e-05 ...................................\n",
      "[CV]  kernel=rbf, C=10, gamma=1e-05, score=0.93984962406, total=   0.0s\n",
      "[CV] kernel=rbf, C=10, gamma=1e-05 ...................................\n",
      "[CV]  kernel=rbf, C=10, gamma=1e-05, score=0.939393939394, total=   0.0s\n",
      "[CV] kernel=rbf, C=100, gamma=1 ......................................\n",
      "[CV] . kernel=rbf, C=100, gamma=1, score=0.639097744361, total=   0.0s\n",
      "[CV] kernel=rbf, C=100, gamma=1 ......................................\n",
      "[CV] . kernel=rbf, C=100, gamma=1, score=0.639097744361, total=   0.0s\n",
      "[CV] kernel=rbf, C=100, gamma=1 ......................................\n",
      "[CV] . kernel=rbf, C=100, gamma=1, score=0.643939393939, total=   0.0s\n",
      "[CV] kernel=rbf, C=100, gamma=0.1 ....................................\n",
      "[CV]  kernel=rbf, C=100, gamma=0.1, score=0.639097744361, total=   0.0s\n",
      "[CV] kernel=rbf, C=100, gamma=0.1 ....................................\n",
      "[CV]  kernel=rbf, C=100, gamma=0.1, score=0.639097744361, total=   0.0s\n",
      "[CV] kernel=rbf, C=100, gamma=0.1 ....................................\n",
      "[CV]  kernel=rbf, C=100, gamma=0.1, score=0.643939393939, total=   0.0s\n",
      "[CV] kernel=rbf, C=100, gamma=0.001 ..................................\n",
      "[CV]  kernel=rbf, C=100, gamma=0.001, score=0.924812030075, total=   0.0s\n",
      "[CV] kernel=rbf, C=100, gamma=0.001 ..................................\n",
      "[CV]  kernel=rbf, C=100, gamma=0.001, score=0.864661654135, total=   0.0s\n",
      "[CV] kernel=rbf, C=100, gamma=0.001 ..................................\n",
      "[CV]  kernel=rbf, C=100, gamma=0.001, score=0.924242424242, total=   0.0s\n",
      "[CV] kernel=rbf, C=100, gamma=0.0001 .................................\n",
      "[CV]  kernel=rbf, C=100, gamma=0.0001, score=0.924812030075, total=   0.0s\n",
      "[CV] kernel=rbf, C=100, gamma=0.0001 .................................\n",
      "[CV]  kernel=rbf, C=100, gamma=0.0001, score=0.90977443609, total=   0.0s\n",
      "[CV] kernel=rbf, C=100, gamma=0.0001 .................................\n",
      "[CV]  kernel=rbf, C=100, gamma=0.0001, score=0.931818181818, total=   0.0s\n",
      "[CV] kernel=rbf, C=100, gamma=1e-05 ..................................\n",
      "[CV]  kernel=rbf, C=100, gamma=1e-05, score=0.954887218045, total=   0.0s\n",
      "[CV] kernel=rbf, C=100, gamma=1e-05 ..................................\n",
      "[CV]  kernel=rbf, C=100, gamma=1e-05, score=0.924812030075, total=   0.0s\n",
      "[CV] kernel=rbf, C=100, gamma=1e-05 ..................................\n",
      "[CV]  kernel=rbf, C=100, gamma=1e-05, score=0.939393939394, total=   0.0s\n",
      "[CV] kernel=rbf, C=1000, gamma=1 .....................................\n",
      "[CV]  kernel=rbf, C=1000, gamma=1, score=0.639097744361, total=   0.0s\n",
      "[CV] kernel=rbf, C=1000, gamma=1 .....................................\n",
      "[CV]  kernel=rbf, C=1000, gamma=1, score=0.639097744361, total=   0.0s\n",
      "[CV] kernel=rbf, C=1000, gamma=1 .....................................\n",
      "[CV]  kernel=rbf, C=1000, gamma=1, score=0.643939393939, total=   0.0s\n",
      "[CV] kernel=rbf, C=1000, gamma=0.1 ...................................\n",
      "[CV]  kernel=rbf, C=1000, gamma=0.1, score=0.639097744361, total=   0.0s\n",
      "[CV] kernel=rbf, C=1000, gamma=0.1 ...................................\n",
      "[CV]  kernel=rbf, C=1000, gamma=0.1, score=0.639097744361, total=   0.0s\n",
      "[CV] kernel=rbf, C=1000, gamma=0.1 ...................................\n",
      "[CV]  kernel=rbf, C=1000, gamma=0.1, score=0.643939393939, total=   0.0s\n",
      "[CV] kernel=rbf, C=1000, gamma=0.001 .................................\n",
      "[CV]  kernel=rbf, C=1000, gamma=0.001, score=0.924812030075, total=   0.0s\n"
     ]
    },
    {
     "name": "stdout",
     "output_type": "stream",
     "text": [
      "[CV] kernel=rbf, C=1000, gamma=0.001 .................................\n",
      "[CV]  kernel=rbf, C=1000, gamma=0.001, score=0.864661654135, total=   0.0s\n",
      "[CV] kernel=rbf, C=1000, gamma=0.001 .................................\n",
      "[CV]  kernel=rbf, C=1000, gamma=0.001, score=0.924242424242, total=   0.0s\n",
      "[CV] kernel=rbf, C=1000, gamma=0.0001 ................................\n",
      "[CV]  kernel=rbf, C=1000, gamma=0.0001, score=0.924812030075, total=   0.0s\n",
      "[CV] kernel=rbf, C=1000, gamma=0.0001 ................................\n",
      "[CV]  kernel=rbf, C=1000, gamma=0.0001, score=0.90977443609, total=   0.0s\n",
      "[CV] kernel=rbf, C=1000, gamma=0.0001 ................................\n",
      "[CV]  kernel=rbf, C=1000, gamma=0.0001, score=0.893939393939, total=   0.0s\n",
      "[CV] kernel=rbf, C=1000, gamma=1e-05 .................................\n",
      "[CV]  kernel=rbf, C=1000, gamma=1e-05, score=0.954887218045, total=   0.0s\n",
      "[CV] kernel=rbf, C=1000, gamma=1e-05 .................................\n",
      "[CV]  kernel=rbf, C=1000, gamma=1e-05, score=0.93984962406, total=   0.0s\n",
      "[CV] kernel=rbf, C=1000, gamma=1e-05 .................................\n",
      "[CV]  kernel=rbf, C=1000, gamma=1e-05, score=0.94696969697, total=   0.0s\n"
     ]
    },
    {
     "name": "stderr",
     "output_type": "stream",
     "text": [
      "[Parallel(n_jobs=1)]: Done  75 out of  75 | elapsed:    3.5s finished\n"
     ]
    },
    {
     "data": {
      "text/plain": [
       "GridSearchCV(cv=None, error_score='raise',\n",
       "       estimator=SVC(C=1.0, cache_size=200, class_weight=None, coef0=0.0,\n",
       "  decision_function_shape='ovr', degree=3, gamma='auto', kernel='rbf',\n",
       "  max_iter=-1, probability=False, random_state=None, shrinking=True,\n",
       "  tol=0.001, verbose=False),\n",
       "       fit_params=None, iid=True, n_jobs=1,\n",
       "       param_grid={'kernel': ['rbf'], 'C': [0.1, 1, 10, 100, 1000], 'gamma': [1, 0.1, 0.001, 0.0001, 1e-05]},\n",
       "       pre_dispatch='2*n_jobs', refit=3, return_train_score=True,\n",
       "       scoring=None, verbose=3)"
      ]
     },
     "execution_count": 38,
     "metadata": {},
     "output_type": "execute_result"
    }
   ],
   "source": [
    "grid.fit(X_train,y_train)"
   ]
  },
  {
   "cell_type": "code",
   "execution_count": 39,
   "metadata": {},
   "outputs": [
    {
     "data": {
      "text/plain": [
       "{'C': 1000, 'gamma': 1e-05, 'kernel': 'rbf'}"
      ]
     },
     "execution_count": 39,
     "metadata": {},
     "output_type": "execute_result"
    }
   ],
   "source": [
    "grid.best_params_"
   ]
  },
  {
   "cell_type": "code",
   "execution_count": 40,
   "metadata": {
    "collapsed": true
   },
   "outputs": [],
   "source": [
    "grid_prediction = grid.predict(X_test)"
   ]
  },
  {
   "cell_type": "code",
   "execution_count": 41,
   "metadata": {},
   "outputs": [
    {
     "name": "stdout",
     "output_type": "stream",
     "text": [
      "             precision    recall  f1-score   support\n",
      "\n",
      "          0       0.96      0.93      0.94        69\n",
      "          1       0.95      0.97      0.96       102\n",
      "\n",
      "avg / total       0.95      0.95      0.95       171\n",
      "\n",
      "[[64  5]\n",
      " [ 3 99]]\n"
     ]
    }
   ],
   "source": [
    "print (classification_report(y_test, grid_prediction))\n",
    "print (confusion_matrix(y_test,grid_prediction))"
   ]
  },
  {
   "cell_type": "code",
   "execution_count": null,
   "metadata": {
    "collapsed": true
   },
   "outputs": [],
   "source": []
  }
 ],
 "metadata": {
  "kernelspec": {
   "display_name": "Python [conda root]",
   "language": "python",
   "name": "conda-root-py"
  },
  "language_info": {
   "codemirror_mode": {
    "name": "ipython",
    "version": 2
   },
   "file_extension": ".py",
   "mimetype": "text/x-python",
   "name": "python",
   "nbconvert_exporter": "python",
   "pygments_lexer": "ipython2",
   "version": "2.7.14"
  }
 },
 "nbformat": 4,
 "nbformat_minor": 2
}
